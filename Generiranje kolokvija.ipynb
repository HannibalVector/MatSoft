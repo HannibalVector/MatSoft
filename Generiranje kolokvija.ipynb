{
 "cells": [
  {
   "cell_type": "markdown",
   "metadata": {},
   "source": [
    "#Skripta za generiranje kolokvija\n",
    "\n",
    "Skripta generira $\\LaTeX$ dokument s slučajno generiranim kolokvijima. Studenti se učitavaju iz datoteke."
   ]
  },
  {
   "cell_type": "markdown",
   "metadata": {},
   "source": [
    "###Najprije definiramo stringove koji sadrže zaglavlje i kraj dokumenta"
   ]
  },
  {
   "cell_type": "code",
   "execution_count": 1,
   "metadata": {
    "collapsed": false
   },
   "outputs": [],
   "source": [
    "header1 = \"\"\"\\documentclass[a4paper,11pt]{article}\n",
    "\\usepackage[utf8]{inputenc}\n",
    "\\usepackage[T1]{fontenc}\n",
    "\\usepackage[croatian]{babel}\n",
    "\\usepackage{minted}\n",
    "\\usepackage{amsmath,amsfonts}\n",
    "\\usepackage{graphicx}\n",
    "\\usepackage{booktabs}\n",
    "\\usepackage[hmargin=1.5cm,vmargin=1cm]{geometry}\n",
    "\\pagestyle{empty}\n",
    "\\\\begin{document}\n",
    "\"\"\"\n",
    "header2 = \"\"\"\\\\begin{center}\n",
    "\t{\\LARGE \\\\textbf{1.\\ kolokvij iz Matematičkog sofvera}}\\\\\\\\\n",
    "\t{\\Large\\\\textbf{15.\\ travnja 2014.}}\\\\\\\\\n",
    "\\end{center}\n",
    "\n",
    "\"\"\"\n",
    "header3=\"\"\"\\\\begin{enumerate}\n",
    "\"\"\"\n",
    "footer1 = \"\"\"\\end{enumerate}\n",
    "\n",
    "\\\\vspace{5mm}\n",
    "\n",
    "\\\\textbf{Uputa}: Kolokvij rješavate unutar projekta pomoću kojeg ste se registrirali za kolokvij. \n",
    "Cijeli kolokvij rješavate unutar jednog IPython notebook-a. \n",
    "\n",
    "Drugi zadatak se rješava korištenjem biblioteke \\\\texttt{Numpy}, treći korištenjem biblioteke \\\\texttt{Scipy}, četvrti korištenjem \n",
    "biblioteke \\\\texttt{Matplotlib} a peti korištenjem biblioteke \\\\texttt{Sympy}.\n",
    "\n",
    "\\\\vspace{5mm}\n",
    "\n",
    "\\\\begin{flushright}\n",
    "Potpis studenta:\t\n",
    "\\end{flushright}\n",
    "\t\n",
    "\\\\newpage\n",
    "\n",
    "\"\"\"\n",
    "footer2=\"\"\"\n",
    "\\end{document}\n",
    "\"\"\""
   ]
  },
  {
   "cell_type": "markdown",
   "metadata": {},
   "source": [
    "###Učitavanje potrebnih paketa & podataka"
   ]
  },
  {
   "cell_type": "code",
   "execution_count": 3,
   "metadata": {
    "collapsed": false
   },
   "outputs": [],
   "source": [
    "from numpy import random\n",
    "f = open('studenti.txt','r')\n",
    "studenti = list(f)\n",
    "f.close()\n",
    "broj_studenata = len(studenti)\n",
    "broj_zadataka = 5"
   ]
  },
  {
   "cell_type": "markdown",
   "metadata": {},
   "source": [
    "###Kreiranje datoteke"
   ]
  },
  {
   "cell_type": "code",
   "execution_count": 4,
   "metadata": {
    "collapsed": false
   },
   "outputs": [],
   "source": [
    "datoteka = \"ms_kol1.tex\"\n",
    "\n",
    "f = open(datoteka,'w')\n",
    "f.write(header1+'\\n')\n",
    "for i in range(broj_studenata):\n",
    "    random.seed()\n",
    "    r=random.random_integers(1,broj_zadataka,5)\n",
    "    f.write(header2)\n",
    "    f.write(\"\\\\begin{center}{\\large \\\\textbf{Student: \"+studenti[i][:-1]+\"}}\\end{center}\\n\\n\")\n",
    "    f.write(header3)\n",
    "    for j in range(5):\n",
    "        z = str(j+1)+str(r[j]).zfill(2)\n",
    "        f.write('\\\\input zadaci/z'+z+'\\n')  \n",
    "    f.write(footer1)\n",
    "f.write(footer2)\n",
    "f.close()"
   ]
  },
  {
   "cell_type": "code",
   "execution_count": null,
   "metadata": {
    "collapsed": true
   },
   "outputs": [],
   "source": []
  }
 ],
 "metadata": {
  "kernelspec": {
   "display_name": "Python 2",
   "language": "python",
   "name": "python2"
  },
  "language_info": {
   "codemirror_mode": {
    "name": "ipython",
    "version": 2
   },
   "file_extension": ".py",
   "mimetype": "text/x-python",
   "name": "python",
   "nbconvert_exporter": "python",
   "pygments_lexer": "ipython2",
   "version": "2.7.9"
  }
 },
 "nbformat": 4,
 "nbformat_minor": 0
}
